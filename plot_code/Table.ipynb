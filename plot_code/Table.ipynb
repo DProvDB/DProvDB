{
 "cells": [
  {
   "cell_type": "code",
   "execution_count": null,
   "metadata": {},
   "outputs": [],
   "source": [
    "# load package and fonts\n",
    "\n",
    "import matplotlib as mpl\n",
    "import matplotlib.pyplot as plt\n",
    "import pandas as pd\n",
    "import numpy as np\n",
    "import seaborn as sns\n",
    "\n",
    "sns.set(font=\"Helvetica\", rc={\"figure.figsize\":(4, 3)})\n",
    "sns.set_theme(style=\"white\")\n",
    "sns.set_style('ticks')\n",
    "sns.set_context(\"paper\", font_scale=1.3, rc={\"lines.linewidth\": 1.75})"
   ]
  },
  {
   "cell_type": "code",
   "execution_count": null,
   "metadata": {},
   "outputs": [],
   "source": [
    "# load data\n",
    "\n",
    "report = pd.read_csv('../data/RRQ_tpch_end_to_end.csv', sep=';')\n",
    "\n",
    "report = report.apply(lambda x: x.str.strip() if x.dtype == \"object\" else x)\n",
    "report.columns = report.columns.str.strip()\n",
    "\n",
    "\n",
    "# processing list strings\n",
    "\n",
    "def parse_list(s):\n",
    "    if isinstance(s, str) and s.startswith('List'):\n",
    "        return [float(x) for x in s[5: -1].split(\",\")]\n",
    "    else:\n",
    "        return s\n",
    "\n",
    "report = report.applymap(parse_list)\n",
    "\n",
    "report.loc[(report[\"viewConstraintFlag\"] == \"static fixed: 1.0\") & (report[\"mechanism\"] == \"baseline\"), \"mechanism\"] = \"PrivateSQL\"\n",
    "report.loc[(report[\"viewConstraintFlag\"] == \"static fixed: 1.0\") & (report[\"mechanism\"] == \"PrivateSQL\"), \"viewConstraintFlag\"] = \"dynamic fixed: 1.0\"\n",
    "\n",
    "report.head(5)"
   ]
  },
  {
   "cell_type": "code",
   "execution_count": null,
   "metadata": {},
   "outputs": [],
   "source": [
    "# generate performance table\n",
    "\n",
    "def process_for_runtime(df):\n",
    "    ret = []\n",
    "    mech_dt = [\"aGM\", \"baseline\", \"PrivateSQL\", \"Chorus\", \"ChorusP\"]\n",
    "    for mech in mech_dt:\n",
    "        filtered_df = df[df[\"mechanism\"]==mech]\n",
    "        if mech in [\"aGM\", \"baseline\", \"PrivateSQL\"]:\n",
    "            ret.append(np.mean(filtered_df[\"setup_time\"]))\n",
    "        ret.append(np.mean(filtered_df[\"execution_time\"]))\n",
    "        ret.append(np.mean(filtered_df[\"utility\"]))\n",
    "        ret.append(np.mean(filtered_df[\"execution_time\"]) / np.mean(filtered_df[\"utility\"]))\n",
    "    return ret\n"
   ]
  },
  {
   "cell_type": "code",
   "execution_count": null,
   "metadata": {},
   "outputs": [],
   "source": [
    "fill_in = process_for_runtime(report)\n",
    "print(fill_in)\n",
    "\n",
    "latex_tab = \"\"\"\\\\begin{{tabular}}{{ccccc}}\n",
    "    \\\\toprule \\hline\n",
    "    Systems  & Setup Time   & Running Time & No. of Queries & Per Query Perf  \\\\\\ \\hline\n",
    "    \\oursystem     &  {:.2f} ms    &  {:.2f} ms  & {:.1f}  & {:.2f} ms \\\\\\ \n",
    "    Vanilla &  {:.2f} ms    & {:.2f} ms  & {:.1f}   & {:.2f} ms  \\\\\\ \n",
    "    sPrivateSQL &  {:.2f} ms &  {:.2f} ms & {:.1f} & {:.2f} ms \\\\\\ \n",
    "    Chorus &  N/A   &  {:.2f} ms  & {:.1f}   & {:.2f} ms \\\\\\ \n",
    "    ChorusP & N/A   &  {:.2f} ms  & {:.1f}  & {:.2f} ms \\\\\\ \\hline\n",
    "    \\\\bottomrule\n",
    "\\end{{tabular}}\"\"\".format(fill_in[0], fill_in[1], fill_in[2], fill_in[3], fill_in[4], fill_in[5], fill_in[6], \n",
    "                        fill_in[7], fill_in[8], fill_in[9], fill_in[10], fill_in[11], fill_in[12], fill_in[13], \n",
    "                        fill_in[14], fill_in[15], fill_in[16], fill_in[17])\n",
    "    \n",
    "print(latex_tab)"
   ]
  }
 ],
 "metadata": {
  "kernelspec": {
   "display_name": "DProvDB_build",
   "language": "python",
   "name": "python3"
  },
  "language_info": {
   "codemirror_mode": {
    "name": "ipython",
    "version": 3
   },
   "file_extension": ".py",
   "mimetype": "text/x-python",
   "name": "python",
   "nbconvert_exporter": "python",
   "pygments_lexer": "ipython3",
   "version": "3.8.19"
  }
 },
 "nbformat": 4,
 "nbformat_minor": 2
}
